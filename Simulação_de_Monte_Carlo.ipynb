{
  "nbformat": 4,
  "nbformat_minor": 0,
  "metadata": {
    "colab": {
      "name": "Simulação de Monte Carlo.ipynb",
      "provenance": [],
      "authorship_tag": "ABX9TyOA5O71WpNNxLFvQRlPxXVs",
      "include_colab_link": true
    },
    "kernelspec": {
      "name": "python3",
      "display_name": "Python 3"
    },
    "language_info": {
      "name": "python"
    }
  },
  "cells": [
    {
      "cell_type": "markdown",
      "metadata": {
        "id": "view-in-github",
        "colab_type": "text"
      },
      "source": [
        "<a href=\"https://colab.research.google.com/github/Isferbr/Modelagem/blob/main/Simula%C3%A7%C3%A3o_de_Monte_Carlo.ipynb\" target=\"_parent\"><img src=\"https://colab.research.google.com/assets/colab-badge.svg\" alt=\"Open In Colab\"/></a>"
      ]
    },
    {
      "cell_type": "code",
      "metadata": {
        "id": "Rns4_Vfuoqbn"
      },
      "source": [
        "import numpy as np\n",
        "\n",
        "def f(x): # função a ser integrada\n",
        "  y = 1 + x**2\n",
        "  return y\n",
        "\n",
        "a = 5  # limite inferior do intervalo\n",
        "b = 10 # limite superior do intervalo\n",
        "N = 1000000 # número de interações\n",
        "n = 0 # contagens entre a função e y = 0\n",
        "\n",
        "x = a + (b - a)*np.random.uniform(size = N) # pontos aleatórios entre a e b\n",
        "max_y = max([f(x[i]) for i in range(N)]) # encontrando o máximo da função no intervalo\n",
        "y = max_y*np.random.uniform(size = N) # pontos aleatórios entre 0 e max_y\n",
        "\n",
        "for i in range(N):\n",
        "  if y[i] < f(x[i]):\n",
        "    n+=1\n",
        "\n",
        "# a área da integração em relação a área do retângulo segue a proporção n/N\n",
        "A = max_y * (b - a) * (n / N)"
      ],
      "execution_count": 4,
      "outputs": []
    },
    {
      "cell_type": "markdown",
      "metadata": {
        "id": "KLG1jMykrW0a"
      },
      "source": [
        "## Referências\n",
        "\n",
        "https://pt.wikipedia.org/wiki/M%C3%A9todo_de_Monte_Carlo#Exemplo_em_Python_2"
      ]
    }
  ]
}