{
  "nbformat": 4,
  "nbformat_minor": 0,
  "metadata": {
    "colab": {
      "name": "Simulação de Monte Carlo.ipynb",
      "provenance": []
    },
    "kernelspec": {
      "name": "python3",
      "display_name": "Python 3"
    },
    "language_info": {
      "name": "python"
    }
  },
  "cells": [
    {
      "cell_type": "code",
      "metadata": {
        "colab": {
          "base_uri": "https://localhost:8080/"
        },
        "id": "Rns4_Vfuoqbn",
        "outputId": "e7f2a3fd-28fb-4deb-b698-33815d082cfa"
      },
      "source": [
        "import numpy as np\n",
        "\n",
        "def f(x): # função a ser integrada\n",
        "  y = 1 + x**2\n",
        "  return y\n",
        "\n",
        "a = 5  # limite inferior do intervalo\n",
        "b = 10 # limite superior do intervalo\n",
        "N = 1000000 # número de interações\n",
        "n = 0 # contagens entre a função e y = 0\n",
        "\n",
        "x = a + (b - a)*np.random.uniform(size = N) # pontos aleatórios entre a e b\n",
        "max_y = max([f(x[i]) for i in range(N)]) # encontrando o máximo da função no intervalo\n",
        "y = max_y*np.random.uniform(size = N) # pontos aleatórios entre 0 e max_y\n",
        "\n",
        "for i in range(N):\n",
        "  if y[i] < f(x[i]):\n",
        "    n+=1\n",
        "\n",
        "# a área da integração em relação a área do retângulo segue a proporção n/N\n",
        "A = max_y * (b - a) * (n / N)\n",
        "print(A)"
      ],
      "execution_count": 3,
      "outputs": [
        {
          "output_type": "stream",
          "text": [
            "296.5650344306149\n"
          ],
          "name": "stdout"
        }
      ]
    },
    {
      "cell_type": "markdown",
      "metadata": {
        "id": "KLG1jMykrW0a"
      },
      "source": [
        "## Referências\n",
        "\n",
        "https://pt.wikipedia.org/wiki/M%C3%A9todo_de_Monte_Carlo#Exemplo_em_Python_2"
      ]
    }
  ]
}